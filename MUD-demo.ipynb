{
 "cells": [
  {
   "cell_type": "code",
   "execution_count": null,
   "metadata": {
    "collapsed": true
   },
   "outputs": [],
   "source": [
    "# multivariate-univariate dependence analysis for toy data, but feel free to load your own in variable called patterns\n",
    "# patterns should be numVoxels x numPatterns\n",
    "# see Aly M & Turk-Browne NB. (2016). Attention stabilizes representations in the human hippocampus. Cerebral Cortex, 26, 783-796.\n",
    "#\n",
    "# Mariam Aly\n",
    "#"
   ]
  },
  {
   "cell_type": "code",
   "execution_count": null,
   "metadata": {
    "collapsed": true
   },
   "outputs": [],
   "source": [
    "# how many patterns you want, if using toy data\n",
    "numPatt = 4\n",
    "\n",
    "# how many voxels per pattern you want, if using toy data\n",
    "numVox = 50"
   ]
  },
  {
   "cell_type": "code",
   "execution_count": null,
   "metadata": {
    "collapsed": false
   },
   "outputs": [],
   "source": [
    "import numpy as np\n",
    "from scipy import stats\n",
    "import matplotlib.pyplot as plt\n",
    "%matplotlib inline"
   ]
  },
  {
   "cell_type": "code",
   "execution_count": null,
   "metadata": {
    "collapsed": false
   },
   "outputs": [],
   "source": [
    "# make up toy patterns\n",
    "patterns = np.random.randn(numVox,numPatt)"
   ]
  },
  {
   "cell_type": "code",
   "execution_count": null,
   "metadata": {
    "collapsed": false
   },
   "outputs": [],
   "source": [
    "# find univariate activity for each voxel\n",
    "tmpAct = patterns.mean(axis=1)\n",
    "uniAct = tmpAct.reshape(numVox,1)"
   ]
  },
  {
   "cell_type": "code",
   "execution_count": null,
   "metadata": {
    "collapsed": false
   },
   "outputs": [],
   "source": [
    "# subtract the mean for each pattern\n",
    "patt_mean = patterns.mean(axis=0)\n",
    "patt_mean_sub = patterns - patt_mean"
   ]
  },
  {
   "cell_type": "code",
   "execution_count": null,
   "metadata": {
    "collapsed": false
   },
   "outputs": [],
   "source": [
    "# divide by the root sub of squares\n",
    "root_ss = np.sqrt(sum(patt_mean_sub ** 2))\n",
    "zpatt = patt_mean_sub / root_ss"
   ]
  },
  {
   "cell_type": "code",
   "execution_count": null,
   "metadata": {
    "collapsed": false
   },
   "outputs": [],
   "source": [
    "patts = list(range(0,numPatt))\n",
    "pattsToLoopThrough = patts[0:-1] # exclude last pattern, because patterns will be multiplied with all pattern indices > current; by the time you get to the last pattern, it has already been multiplied with all others\n",
    "pattProd = []\n",
    "numCols = 0\n",
    "\n",
    "for i in pattsToLoopThrough:\n",
    "    tmpPatt = zpatt[:,i]\n",
    "    thisPatt = tmpPatt.reshape(numVox,1)\n",
    "    idx_pattsToMultiply = [idx for idx in patts if idx > i] # get product with all pattern indices > current, so no redundancy\n",
    "   \n",
    "    for j in idx_pattsToMultiply:\n",
    "        tmpPattToMultiply = zpatt[:,j]\n",
    "        tmpPattToMultiply = tmpPattToMultiply.reshape(numVox,1)\n",
    "\n",
    "        tmpPattProd = thisPatt * tmpPattToMultiply\n",
    "        pattProd.append(tmpPattProd)\n",
    "        numCols = numCols + 1 # ultimate number of columns in patt prod\n",
    "        \n",
    "        # check that sum of normalized products is the pearson r between patterns (to 8 digits, because of rounding error)\n",
    "        if round(sum(tmpPattProd)[0],8) == round(stats.pearsonr(thisPatt, tmpPattToMultiply)[0][0], 8):\n",
    "            print(\"Yes\")\n",
    "        else:\n",
    "            print(\"No\")\n"
   ]
  },
  {
   "cell_type": "code",
   "execution_count": null,
   "metadata": {
    "collapsed": false
   },
   "outputs": [],
   "source": [
    "# get mean contribution to pattern stability for each voxel\n",
    "\n",
    "# reshape pattProd into array\n",
    "pattProdArray = np.asarray(pattProd)\n",
    "pattProdArray = pattProdArray.T\n",
    "pattProdArray.reshape(numVox,numCols)\n",
    "pattProdArray = np.squeeze(pattProdArray)\n",
    "\n",
    "# get mean contribution for each voxel\n",
    "meanContribToPattSim = pattProdArray.mean(axis=1)\n",
    "meanContribToPattSim = meanContribToPattSim.reshape(numVox,1)\n"
   ]
  },
  {
   "cell_type": "code",
   "execution_count": null,
   "metadata": {
    "collapsed": false
   },
   "outputs": [],
   "source": [
    "# correlate univariate activity with mean normalized product at each voxel\n",
    "\n",
    "stats.pearsonr(uniAct, meanContribToPattSim) # returns r and p-value"
   ]
  },
  {
   "cell_type": "code",
   "execution_count": null,
   "metadata": {
    "collapsed": false
   },
   "outputs": [],
   "source": [
    "# plot\n",
    "myPlot = plt.scatter(uniAct,meanContribToPattSim, color = 'r', marker='o', alpha=.4, s = 120, edgecolors = 'k', linewidths = 3)\n",
    "plt.xlabel(\"univariate activity\")\n",
    "plt.ylabel(\"contribution to pattern similarity\")\n",
    "    \n",
    "plt.show()"
   ]
  },
  {
   "cell_type": "code",
   "execution_count": null,
   "metadata": {
    "collapsed": true
   },
   "outputs": [],
   "source": []
  }
 ],
 "metadata": {
  "kernelspec": {
   "display_name": "Python 3",
   "language": "python",
   "name": "python3"
  },
  "language_info": {
   "codemirror_mode": {
    "name": "ipython",
    "version": 3
   },
   "file_extension": ".py",
   "mimetype": "text/x-python",
   "name": "python",
   "nbconvert_exporter": "python",
   "pygments_lexer": "ipython3",
   "version": "3.5.2"
  }
 },
 "nbformat": 4,
 "nbformat_minor": 0
}
